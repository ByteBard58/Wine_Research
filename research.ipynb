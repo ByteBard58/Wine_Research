{
 "cells": [
  {
   "cell_type": "markdown",
   "id": "4c4f406b",
   "metadata": {},
   "source": [
    "# Wine dataset project\n",
    "In this practice project, I have done some work on the famous wine dataset from Kaggle. I have used this notebook primarily as a testing playgorund. You can check the different scores I received while testing with various different models at the bottom of this notebook. "
   ]
  },
  {
   "cell_type": "markdown",
   "id": "071f341a",
   "metadata": {},
   "source": [
    "Importing Libraries"
   ]
  },
  {
   "cell_type": "code",
   "execution_count": 2,
   "id": "e026ad2c",
   "metadata": {},
   "outputs": [],
   "source": [
    "from sklearn.ensemble import RandomForestClassifier\n",
    "from sklearn.linear_model import LogisticRegression\n",
    "from sklearn.svm import SVC\n",
    "from sklearn.neighbors import KNeighborsClassifier\n",
    "from sklearn.model_selection import cross_val_score,KFold,train_test_split\n",
    "from sklearn.metrics import classification_report\n",
    "from sklearn.preprocessing import StandardScaler\n",
    "from sklearn.impute import SimpleImputer\n",
    "from sklearn.feature_selection import SequentialFeatureSelector\n",
    "from sklearn.pipeline import Pipeline"
   ]
  },
  {
   "cell_type": "markdown",
   "id": "1dad2904",
   "metadata": {},
   "source": [
    "Loading Dataset"
   ]
  },
  {
   "cell_type": "code",
   "execution_count": 3,
   "id": "267b6df1",
   "metadata": {},
   "outputs": [],
   "source": [
    "# Install dependencies first if not installed\n",
    "# pip install kagglehub pandas\n",
    "\n",
    "import kagglehub\n",
    "import pandas as pd\n",
    "\n",
    "# Download the dataset\n",
    "path = kagglehub.dataset_download(\"yasserh/wine-quality-dataset\")\n",
    "\n",
    "# Load the CSV file (KaggleHub returns the dataset folder path)\n",
    "df = pd.read_csv(f\"{path}/WineQT.csv\")  # The file name in that dataset is WineQT.csv\n"
   ]
  },
  {
   "cell_type": "markdown",
   "id": "e772112d",
   "metadata": {},
   "source": [
    "## Preprocessing"
   ]
  },
  {
   "cell_type": "code",
   "execution_count": 4,
   "id": "83ad5d49",
   "metadata": {},
   "outputs": [
    {
     "data": {
      "text/plain": [
       "(1143, 13)"
      ]
     },
     "execution_count": 4,
     "metadata": {},
     "output_type": "execute_result"
    }
   ],
   "source": [
    "df.shape"
   ]
  },
  {
   "cell_type": "code",
   "execution_count": 5,
   "id": "4217a399",
   "metadata": {},
   "outputs": [
    {
     "data": {
      "text/plain": [
       "fixed acidity  volatile acidity  citric acid  residual sugar  chlorides  free sulfur dioxide  total sulfur dioxide  density  pH     sulphates  alcohol  quality  Id   \n",
       "False          False             False        False           False      False                False                 False    False  False      False    False    False    1143\n",
       "Name: count, dtype: int64"
      ]
     },
     "execution_count": 5,
     "metadata": {},
     "output_type": "execute_result"
    }
   ],
   "source": [
    "df.isna().value_counts()"
   ]
  },
  {
   "cell_type": "markdown",
   "id": "a7915f16",
   "metadata": {},
   "source": [
    "No null rows were found. I also checked with data wrangler. df looks clean"
   ]
  },
  {
   "cell_type": "code",
   "execution_count": 6,
   "id": "a474be2e",
   "metadata": {},
   "outputs": [
    {
     "data": {
      "text/plain": [
       "Index(['fixed acidity', 'volatile acidity', 'citric acid', 'residual sugar',\n",
       "       'chlorides', 'free sulfur dioxide', 'total sulfur dioxide', 'density',\n",
       "       'pH', 'sulphates', 'alcohol', 'quality', 'Id'],\n",
       "      dtype='object')"
      ]
     },
     "execution_count": 6,
     "metadata": {},
     "output_type": "execute_result"
    }
   ],
   "source": [
    "df.columns"
   ]
  },
  {
   "cell_type": "code",
   "execution_count": 7,
   "id": "14a4309d",
   "metadata": {},
   "outputs": [
    {
     "data": {
      "text/plain": [
       "quality\n",
       "5    483\n",
       "6    462\n",
       "7    143\n",
       "4     33\n",
       "8     16\n",
       "3      6\n",
       "Name: count, dtype: int64"
      ]
     },
     "execution_count": 7,
     "metadata": {},
     "output_type": "execute_result"
    }
   ],
   "source": [
    "df[\"quality\"].value_counts()"
   ]
  },
  {
   "cell_type": "markdown",
   "id": "e45a45fc",
   "metadata": {},
   "source": [
    "Encoding the target classes. The following rule is applied :\n",
    "- The Wine with a quality of **3** or **4** becomes Class **0**\n",
    "\n",
    "- The Wine with a quality of **5** or **6** becomes Class **1**\n",
    "\n",
    "- The Wine with a quality of **7** or **8** becomes Class **2**"
   ]
  },
  {
   "cell_type": "code",
   "execution_count": 8,
   "id": "e0b88b67",
   "metadata": {},
   "outputs": [
    {
     "data": {
      "text/html": [
       "<div>\n",
       "<style scoped>\n",
       "    .dataframe tbody tr th:only-of-type {\n",
       "        vertical-align: middle;\n",
       "    }\n",
       "\n",
       "    .dataframe tbody tr th {\n",
       "        vertical-align: top;\n",
       "    }\n",
       "\n",
       "    .dataframe thead th {\n",
       "        text-align: right;\n",
       "    }\n",
       "</style>\n",
       "<table border=\"1\" class=\"dataframe\">\n",
       "  <thead>\n",
       "    <tr style=\"text-align: right;\">\n",
       "      <th></th>\n",
       "      <th>fixed acidity</th>\n",
       "      <th>volatile acidity</th>\n",
       "      <th>citric acid</th>\n",
       "      <th>residual sugar</th>\n",
       "      <th>chlorides</th>\n",
       "      <th>free sulfur dioxide</th>\n",
       "      <th>total sulfur dioxide</th>\n",
       "      <th>density</th>\n",
       "      <th>pH</th>\n",
       "      <th>sulphates</th>\n",
       "      <th>alcohol</th>\n",
       "      <th>quality</th>\n",
       "      <th>Id</th>\n",
       "      <th>label_quality</th>\n",
       "    </tr>\n",
       "  </thead>\n",
       "  <tbody>\n",
       "    <tr>\n",
       "      <th>1133</th>\n",
       "      <td>6.7</td>\n",
       "      <td>0.320</td>\n",
       "      <td>0.44</td>\n",
       "      <td>2.4</td>\n",
       "      <td>0.061</td>\n",
       "      <td>24.0</td>\n",
       "      <td>34.0</td>\n",
       "      <td>0.99484</td>\n",
       "      <td>3.29</td>\n",
       "      <td>0.80</td>\n",
       "      <td>11.6</td>\n",
       "      <td>7</td>\n",
       "      <td>1584</td>\n",
       "      <td>2</td>\n",
       "    </tr>\n",
       "    <tr>\n",
       "      <th>1134</th>\n",
       "      <td>7.5</td>\n",
       "      <td>0.310</td>\n",
       "      <td>0.41</td>\n",
       "      <td>2.4</td>\n",
       "      <td>0.065</td>\n",
       "      <td>34.0</td>\n",
       "      <td>60.0</td>\n",
       "      <td>0.99492</td>\n",
       "      <td>3.34</td>\n",
       "      <td>0.85</td>\n",
       "      <td>11.4</td>\n",
       "      <td>6</td>\n",
       "      <td>1586</td>\n",
       "      <td>1</td>\n",
       "    </tr>\n",
       "    <tr>\n",
       "      <th>1135</th>\n",
       "      <td>5.8</td>\n",
       "      <td>0.610</td>\n",
       "      <td>0.11</td>\n",
       "      <td>1.8</td>\n",
       "      <td>0.066</td>\n",
       "      <td>18.0</td>\n",
       "      <td>28.0</td>\n",
       "      <td>0.99483</td>\n",
       "      <td>3.55</td>\n",
       "      <td>0.66</td>\n",
       "      <td>10.9</td>\n",
       "      <td>6</td>\n",
       "      <td>1587</td>\n",
       "      <td>1</td>\n",
       "    </tr>\n",
       "    <tr>\n",
       "      <th>1136</th>\n",
       "      <td>6.3</td>\n",
       "      <td>0.550</td>\n",
       "      <td>0.15</td>\n",
       "      <td>1.8</td>\n",
       "      <td>0.077</td>\n",
       "      <td>26.0</td>\n",
       "      <td>35.0</td>\n",
       "      <td>0.99314</td>\n",
       "      <td>3.32</td>\n",
       "      <td>0.82</td>\n",
       "      <td>11.6</td>\n",
       "      <td>6</td>\n",
       "      <td>1590</td>\n",
       "      <td>1</td>\n",
       "    </tr>\n",
       "    <tr>\n",
       "      <th>1137</th>\n",
       "      <td>5.4</td>\n",
       "      <td>0.740</td>\n",
       "      <td>0.09</td>\n",
       "      <td>1.7</td>\n",
       "      <td>0.089</td>\n",
       "      <td>16.0</td>\n",
       "      <td>26.0</td>\n",
       "      <td>0.99402</td>\n",
       "      <td>3.67</td>\n",
       "      <td>0.56</td>\n",
       "      <td>11.6</td>\n",
       "      <td>6</td>\n",
       "      <td>1591</td>\n",
       "      <td>1</td>\n",
       "    </tr>\n",
       "    <tr>\n",
       "      <th>1138</th>\n",
       "      <td>6.3</td>\n",
       "      <td>0.510</td>\n",
       "      <td>0.13</td>\n",
       "      <td>2.3</td>\n",
       "      <td>0.076</td>\n",
       "      <td>29.0</td>\n",
       "      <td>40.0</td>\n",
       "      <td>0.99574</td>\n",
       "      <td>3.42</td>\n",
       "      <td>0.75</td>\n",
       "      <td>11.0</td>\n",
       "      <td>6</td>\n",
       "      <td>1592</td>\n",
       "      <td>1</td>\n",
       "    </tr>\n",
       "    <tr>\n",
       "      <th>1139</th>\n",
       "      <td>6.8</td>\n",
       "      <td>0.620</td>\n",
       "      <td>0.08</td>\n",
       "      <td>1.9</td>\n",
       "      <td>0.068</td>\n",
       "      <td>28.0</td>\n",
       "      <td>38.0</td>\n",
       "      <td>0.99651</td>\n",
       "      <td>3.42</td>\n",
       "      <td>0.82</td>\n",
       "      <td>9.5</td>\n",
       "      <td>6</td>\n",
       "      <td>1593</td>\n",
       "      <td>1</td>\n",
       "    </tr>\n",
       "    <tr>\n",
       "      <th>1140</th>\n",
       "      <td>6.2</td>\n",
       "      <td>0.600</td>\n",
       "      <td>0.08</td>\n",
       "      <td>2.0</td>\n",
       "      <td>0.090</td>\n",
       "      <td>32.0</td>\n",
       "      <td>44.0</td>\n",
       "      <td>0.99490</td>\n",
       "      <td>3.45</td>\n",
       "      <td>0.58</td>\n",
       "      <td>10.5</td>\n",
       "      <td>5</td>\n",
       "      <td>1594</td>\n",
       "      <td>1</td>\n",
       "    </tr>\n",
       "    <tr>\n",
       "      <th>1141</th>\n",
       "      <td>5.9</td>\n",
       "      <td>0.550</td>\n",
       "      <td>0.10</td>\n",
       "      <td>2.2</td>\n",
       "      <td>0.062</td>\n",
       "      <td>39.0</td>\n",
       "      <td>51.0</td>\n",
       "      <td>0.99512</td>\n",
       "      <td>3.52</td>\n",
       "      <td>0.76</td>\n",
       "      <td>11.2</td>\n",
       "      <td>6</td>\n",
       "      <td>1595</td>\n",
       "      <td>1</td>\n",
       "    </tr>\n",
       "    <tr>\n",
       "      <th>1142</th>\n",
       "      <td>5.9</td>\n",
       "      <td>0.645</td>\n",
       "      <td>0.12</td>\n",
       "      <td>2.0</td>\n",
       "      <td>0.075</td>\n",
       "      <td>32.0</td>\n",
       "      <td>44.0</td>\n",
       "      <td>0.99547</td>\n",
       "      <td>3.57</td>\n",
       "      <td>0.71</td>\n",
       "      <td>10.2</td>\n",
       "      <td>5</td>\n",
       "      <td>1597</td>\n",
       "      <td>1</td>\n",
       "    </tr>\n",
       "  </tbody>\n",
       "</table>\n",
       "</div>"
      ],
      "text/plain": [
       "      fixed acidity  volatile acidity  citric acid  residual sugar  chlorides  \\\n",
       "1133            6.7             0.320         0.44             2.4      0.061   \n",
       "1134            7.5             0.310         0.41             2.4      0.065   \n",
       "1135            5.8             0.610         0.11             1.8      0.066   \n",
       "1136            6.3             0.550         0.15             1.8      0.077   \n",
       "1137            5.4             0.740         0.09             1.7      0.089   \n",
       "1138            6.3             0.510         0.13             2.3      0.076   \n",
       "1139            6.8             0.620         0.08             1.9      0.068   \n",
       "1140            6.2             0.600         0.08             2.0      0.090   \n",
       "1141            5.9             0.550         0.10             2.2      0.062   \n",
       "1142            5.9             0.645         0.12             2.0      0.075   \n",
       "\n",
       "      free sulfur dioxide  total sulfur dioxide  density    pH  sulphates  \\\n",
       "1133                 24.0                  34.0  0.99484  3.29       0.80   \n",
       "1134                 34.0                  60.0  0.99492  3.34       0.85   \n",
       "1135                 18.0                  28.0  0.99483  3.55       0.66   \n",
       "1136                 26.0                  35.0  0.99314  3.32       0.82   \n",
       "1137                 16.0                  26.0  0.99402  3.67       0.56   \n",
       "1138                 29.0                  40.0  0.99574  3.42       0.75   \n",
       "1139                 28.0                  38.0  0.99651  3.42       0.82   \n",
       "1140                 32.0                  44.0  0.99490  3.45       0.58   \n",
       "1141                 39.0                  51.0  0.99512  3.52       0.76   \n",
       "1142                 32.0                  44.0  0.99547  3.57       0.71   \n",
       "\n",
       "      alcohol  quality    Id  label_quality  \n",
       "1133     11.6        7  1584              2  \n",
       "1134     11.4        6  1586              1  \n",
       "1135     10.9        6  1587              1  \n",
       "1136     11.6        6  1590              1  \n",
       "1137     11.6        6  1591              1  \n",
       "1138     11.0        6  1592              1  \n",
       "1139      9.5        6  1593              1  \n",
       "1140     10.5        5  1594              1  \n",
       "1141     11.2        6  1595              1  \n",
       "1142     10.2        5  1597              1  "
      ]
     },
     "execution_count": 8,
     "metadata": {},
     "output_type": "execute_result"
    }
   ],
   "source": [
    "def modifcation(x):\n",
    "  if x in [3,4]:\n",
    "    return 0\n",
    "  elif x in [5,6]:\n",
    "    return 1\n",
    "  elif x in [7,8]:\n",
    "    return 2\n",
    "\n",
    "df[\"label_quality\"] = df[\"quality\"].apply(modifcation)\n",
    "df.tail(10)"
   ]
  },
  {
   "cell_type": "markdown",
   "id": "aeebc904",
   "metadata": {},
   "source": [
    "Train Test Split"
   ]
  },
  {
   "cell_type": "code",
   "execution_count": 9,
   "id": "9631dd0d",
   "metadata": {},
   "outputs": [],
   "source": [
    "X = df.iloc[:,:-1].drop([\"quality\",\"Id\"],axis=1)\n",
    "names = X.columns\n",
    "X = X.to_numpy()\n",
    "y = df.iloc[:,-1].to_numpy()\n",
    "\n",
    "x_train,x_test,y_train,y_test = train_test_split(\n",
    "  X,y,test_size=1/3,stratify=y,random_state=91,shuffle=True)\n"
   ]
  },
  {
   "cell_type": "markdown",
   "id": "56cd24d3",
   "metadata": {},
   "source": [
    "Pipeline building"
   ]
  },
  {
   "cell_type": "code",
   "execution_count": null,
   "id": "853b6dcd",
   "metadata": {},
   "outputs": [],
   "source": [
    "# RnadomForestClassifier\n",
    "model = RandomForestClassifier(n_estimators=1000,random_state=101,class_weight=\"balanced\")\n",
    "sfs = SequentialFeatureSelector(estimator=model,n_features_to_select=\"auto\",tol=1e-5,direction=\"backward\",cv=3)\n",
    "\n",
    "preprocessor = Pipeline([\n",
    "  (\"imputation\",SimpleImputer(strategy=\"median\")),\n",
    "  (\"scaling\",StandardScaler())\n",
    "])\n",
    "pipe = Pipeline([\n",
    "  (\"preprocessing\",preprocessor),\n",
    "  (\"sfs\",sfs),\n",
    "  (\"model\",model)\n",
    "])"
   ]
  },
  {
   "cell_type": "code",
   "execution_count": null,
   "id": "7e5b789a",
   "metadata": {},
   "outputs": [],
   "source": [
    "# # SVC \n",
    "# model = SVC(C=10**5,kernel=\"rbf\",class_weight=\"balanced\",random_state=21)\n",
    "# sfs = SequentialFeatureSelector(estimator=model,n_features_to_select=\"auto\",tol=1e-5,direction=\"backward\",cv=3)\n",
    "\n",
    "# preprocessor = Pipeline([\n",
    "#   (\"imputation\",SimpleImputer(strategy=\"median\")),\n",
    "#   (\"scaling\",StandardScaler())\n",
    "# ])\n",
    "# pipe = Pipeline([\n",
    "#   (\"preprocessing\",preprocessor),\n",
    "#   (\"sfs\",sfs),\n",
    "#   (\"model\",model)\n",
    "# ]) "
   ]
  },
  {
   "cell_type": "code",
   "execution_count": null,
   "id": "5a58c8e7",
   "metadata": {},
   "outputs": [],
   "source": [
    "# # KNeighborClassifier \n",
    "# model = KNeighborsClassifier(n_neighbors=10,metric=\"minkowski\",p=2)\n",
    "# sfs = SequentialFeatureSelector(estimator=model,n_features_to_select=\"auto\",tol=1e-5,direction=\"backward\",cv=3)\n",
    "\n",
    "# preprocessor = Pipeline([\n",
    "#   (\"imputation\",SimpleImputer(strategy=\"median\")),\n",
    "#   (\"scaling\",StandardScaler())\n",
    "# ])\n",
    "# pipe = Pipeline([\n",
    "#   (\"preprocessing\",preprocessor),\n",
    "#   (\"sfs\",sfs),\n",
    "#   (\"model\",model)\n",
    "# ]) "
   ]
  },
  {
   "cell_type": "code",
   "execution_count": null,
   "id": "7ff0e385",
   "metadata": {},
   "outputs": [],
   "source": [
    "# # LogisticRgeression \n",
    "# model = LogisticRegression(solver=\"lbfgs\",penalty=\"l2\",C=10**5,class_weight=\"balanced\",random_state=213)\n",
    "# sfs = SequentialFeatureSelector(estimator=model,n_features_to_select=\"auto\",tol=1e-5,direction=\"backward\",cv=3)\n",
    "\n",
    "# preprocessor = Pipeline([\n",
    "#   (\"imputation\",SimpleImputer(strategy=\"median\")),\n",
    "#   (\"scaling\",StandardScaler())\n",
    "# ])\n",
    "# pipe = Pipeline([\n",
    "#   (\"preprocessing\",preprocessor),\n",
    "#   (\"sfs\",sfs),\n",
    "#   (\"model\",model)\n",
    "# ]) "
   ]
  },
  {
   "cell_type": "markdown",
   "id": "4e755275",
   "metadata": {},
   "source": [
    "If you want to try out one of these, comment out the previous one (currently RandomFC) and uncomment the new one."
   ]
  },
  {
   "cell_type": "markdown",
   "id": "f29455b2",
   "metadata": {},
   "source": [
    "## Evaluation"
   ]
  },
  {
   "cell_type": "code",
   "execution_count": null,
   "id": "9e438dde",
   "metadata": {},
   "outputs": [
    {
     "name": "stdout",
     "output_type": "stream",
     "text": [
      "[0.56643357 0.61188811 0.5        0.57192982]\n",
      "Average = 0.5625628757207705\n"
     ]
    }
   ],
   "source": [
    "kfold = KFold(n_splits=4,shuffle=True,random_state=1001)\n",
    "score = cross_val_score(pipe,X,y,cv=kfold)\n",
    "print(score)\n",
    "print(f\"Average = {score.mean()}\")         # Latest Run: Random FC"
   ]
  },
  {
   "cell_type": "markdown",
   "id": "28860c3b",
   "metadata": {},
   "source": [
    "### Cross validation score comparison (4 folds, average score):\n",
    "\n",
    "RandomForestClassifier \n",
    "=> 0.8696386946386946\n",
    "\n",
    "SVC (with RBF kernal) \n",
    "=> 0.8223990921359342\n",
    "\n",
    "Logistic Regression (lbfgs solver, l2 penalty, C = 10^3) \n",
    "=> 0.5625628757207705\n",
    "\n",
    "KNeighborsClassifier \n",
    "=> 0.8451570359465096"
   ]
  }
 ],
 "metadata": {
  "kernelspec": {
   "display_name": "Python 3",
   "language": "python",
   "name": "python3"
  },
  "language_info": {
   "codemirror_mode": {
    "name": "ipython",
    "version": 3
   },
   "file_extension": ".py",
   "mimetype": "text/x-python",
   "name": "python",
   "nbconvert_exporter": "python",
   "pygments_lexer": "ipython3",
   "version": "3.13.7"
  }
 },
 "nbformat": 4,
 "nbformat_minor": 5
}
